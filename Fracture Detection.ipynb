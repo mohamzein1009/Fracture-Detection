{
 "cells": [
  {
   "cell_type": "code",
   "execution_count": 2,
   "id": "1995afe8",
   "metadata": {
    "ExecuteTime": {
     "end_time": "2024-05-04T09:52:51.924494Z",
     "start_time": "2024-05-04T09:52:51.080003Z"
    }
   },
   "outputs": [],
   "source": [
    "# Imports\n",
    "from tensorflow import keras\n",
    "from tensorflow.keras import layers\n",
    "from tensorflow.keras.layers.experimental import preprocessing\n",
    "\n",
    "import os, warnings\n",
    "import matplotlib.pyplot as plt\n",
    "from matplotlib import gridspec\n",
    "\n",
    "import numpy as np\n",
    "import pandas as pd\n",
    "import cv2\n",
    "import tensorflow as tf\n",
    "from tensorflow.keras.preprocessing import image_dataset_from_directory\n",
    "from keras.applications.vgg16 import VGG16\n",
    "from keras.applications.resnet50 import ResNet50\n",
    "from keras.applications.resnet import ResNet152\n",
    "from sklearn.metrics import confusion_matrix"
   ]
  },
  {
   "cell_type": "code",
   "execution_count": null,
   "id": "5684e3e0",
   "metadata": {
    "ExecuteTime": {
     "end_time": "2024-05-04T11:37:11.701214Z",
     "start_time": "2024-05-04T11:37:11.043917Z"
    }
   },
   "outputs": [],
   "source": [
    "# Data Pipeline\n",
    "def convert_to_float(image, label):\n",
    "    image = tf.image.convert_image_dtype(image, dtype=tf.float32)\n",
    "    return image, label"
   ]
  },
  {
   "cell_type": "code",
   "execution_count": 13,
   "id": "42f49189",
   "metadata": {
    "ExecuteTime": {
     "end_time": "2024-05-04T11:37:11.701214Z",
     "start_time": "2024-05-04T11:37:11.043917Z"
    }
   },
   "outputs": [
    {
     "name": "stdout",
     "output_type": "stream",
     "text": [
      "Found 9246 files belonging to 2 classes.\n",
      "Found 506 files belonging to 2 classes.\n",
      "Found 829 files belonging to 2 classes.\n"
     ]
    }
   ],
   "source": [
    "size = 124\n",
    "\n",
    "train_d = image_dataset_from_directory('train')\n",
    "test_d = image_dataset_from_directory('test')\n",
    "valid_d = image_dataset_from_directory('val')\n",
    "\n",
    "AUTOTUNE = tf.data.experimental.AUTOTUNE\n",
    "train = (train_d.map(convert_to_float).cache().prefetch(buffer_size=AUTOTUNE))\n",
    "test = (test_d.map(convert_to_float).cache().prefetch(buffer_size=AUTOTUNE))\n",
    "valid = (valid_d.map(convert_to_float).cache().prefetch(buffer_size=AUTOTUNE))"
   ]
  },
  {
   "cell_type": "code",
   "execution_count": 14,
   "id": "4c69153b",
   "metadata": {
    "ExecuteTime": {
     "end_time": "2024-05-04T11:45:09.511901Z",
     "start_time": "2024-05-04T11:45:09.492808Z"
    }
   },
   "outputs": [],
   "source": [
    "model_one = keras.Sequential([layers.BatchNormalization(renorm=True), \n",
    "                              layers.Conv2D(filters=64, kernel_size=3, activation='relu', padding='same'),\n",
    "                              layers.MaxPool2D(),\n",
    "])"
   ]
  }
 ],
 "metadata": {
  "kernelspec": {
   "display_name": "Python 3 (ipykernel)",
   "language": "python",
   "name": "python3"
  },
  "language_info": {
   "codemirror_mode": {
    "name": "ipython",
    "version": 3
   },
   "file_extension": ".py",
   "mimetype": "text/x-python",
   "name": "python",
   "nbconvert_exporter": "python",
   "pygments_lexer": "ipython3",
   "version": "3.11.5"
  }
 },
 "nbformat": 4,
 "nbformat_minor": 5
}
